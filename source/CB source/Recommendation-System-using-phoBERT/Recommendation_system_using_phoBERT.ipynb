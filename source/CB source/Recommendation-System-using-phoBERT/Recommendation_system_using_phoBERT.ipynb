{
  "nbformat": 4,
  "nbformat_minor": 0,
  "metadata": {
    "colab": {
      "provenance": []
    },
    "kernelspec": {
      "name": "python3",
      "display_name": "Python 3"
    },
    "language_info": {
      "name": "python"
    }
  },
  "cells": [
    {
      "cell_type": "markdown",
      "source": [
        "#Thư viện cần dùng"
      ],
      "metadata": {
        "id": "adJGh7w5JuDY"
      }
    },
    {
      "cell_type": "code",
      "source": [
        "import pandas as pd\n",
        "import numpy as np\n",
        "import torch\n",
        "import csv\n",
        "from tqdm import tqdm\n",
        "from sklearn.metrics.pairwise import cosine_similarity"
      ],
      "metadata": {
        "id": "MnwtKacfZrcE"
      },
      "execution_count": null,
      "outputs": []
    },
    {
      "cell_type": "markdown",
      "source": [
        "#Load data cần dùng"
      ],
      "metadata": {
        "id": "sEpKJq5IJw2W"
      }
    },
    {
      "cell_type": "code",
      "source": [
        "from google.colab import drive\n",
        "drive.mount('/content/drive')"
      ],
      "metadata": {
        "colab": {
          "base_uri": "https://localhost:8080/"
        },
        "id": "lKtsPOcXZws8",
        "outputId": "8360d74b-99ca-4fba-ad0e-a95142640e4b"
      },
      "execution_count": null,
      "outputs": [
        {
          "output_type": "stream",
          "name": "stdout",
          "text": [
            "Drive already mounted at /content/drive; to attempt to forcibly remount, call drive.mount(\"/content/drive\", force_remount=True).\n"
          ]
        }
      ]
    },
    {
      "cell_type": "code",
      "source": [
        "hotel_data = pd.read_csv('/content/drive/MyDrive/DS300_DoAn/data/data_info_hotel_new.csv')"
      ],
      "metadata": {
        "id": "JM8cTNSiZ1Nc"
      },
      "execution_count": null,
      "outputs": []
    },
    {
      "cell_type": "code",
      "source": [
        "# Đọc dữ liệu từ file CSV\n",
        "df_his = pd.read_csv('/content/drive/MyDrive/DS300_DoAn/data/dataset/data_history.csv')\n",
        "df_hotel = pd.read_csv('/content/drive/MyDrive/DS300_DoAn/data/dataset/data_hotel.csv')\n",
        "\n",
        "# Chuyển đổi cột 'Date' thành kiểu dữ liệu datetime\n",
        "df_his['Date'] = pd.to_datetime(df_his['Date'])\n",
        "\n",
        "# Sắp xếp DataFrame theo cột 'Date' theo thứ tự giảm dần\n",
        "df_his = df_his.sort_values(by='Date', ascending=False)\n",
        "\n",
        "# Lấy dữ liệu lịch sử gần nhất cho mỗi người dùng\n",
        "df_latest = df_his.groupby('IDuser').first().reset_index()\n",
        "df_latest = pd.merge(df_latest, df_hotel, on = 'IDhotel')\n",
        "df_latest = pd.merge(df_latest, hotel_data, on = 'NameHotel')"
      ],
      "metadata": {
        "id": "NJvSyvHMZ3B0"
      },
      "execution_count": null,
      "outputs": []
    },
    {
      "cell_type": "markdown",
      "source": [
        "#Lấy các đặc trưng từ file csv được trích xuất từ trước"
      ],
      "metadata": {
        "id": "xeUXjRrSJ0ju"
      }
    },
    {
      "cell_type": "code",
      "source": [
        "def load_features(path):\n",
        "  features = []\n",
        "  csv_file_path = path\n",
        "  with open(csv_file_path , 'r') as csv_file:\n",
        "    reader = csv.reader(csv_file)\n",
        "    for row in reader:\n",
        "        feature = np.array(row, dtype=np.float32)\n",
        "        features.append(feature.reshape((40, 768)))  # Thay n và m bằng kích thước của mảng đa chiều ban đầu\n",
        "  return features"
      ],
      "metadata": {
        "id": "v6a6gvLz7w1e"
      },
      "execution_count": null,
      "outputs": []
    },
    {
      "cell_type": "markdown",
      "source": [
        "##Lấy đặc trưng của khách sạn"
      ],
      "metadata": {
        "id": "o5LHZEmbKFTH"
      }
    },
    {
      "cell_type": "code",
      "source": [
        "hfac_file_path = '/content/drive/MyDrive/DS300_DoAn/data/dataset/hfac_features.csv'\n",
        "har_file_path = '/content/drive/MyDrive/DS300_DoAn/data/dataset/har_features.csv'\n",
        "hvici_file_path = '/content/drive/MyDrive/DS300_DoAn/data/dataset/hvici_features.csv'\n",
        "hpri_file_path = '/content/drive/MyDrive/DS300_DoAn/data/dataset/hpri_features.csv'"
      ],
      "metadata": {
        "id": "Xq9FeCeLKXte"
      },
      "execution_count": null,
      "outputs": []
    },
    {
      "cell_type": "code",
      "source": [
        "hfac_features = load_features(hfac_file_path)\n",
        "har_features = load_features(har_file_path)\n",
        "hvici_features = load_features(hvici_file_path)\n",
        "hpri_features = load_features(hpri_file_path)"
      ],
      "metadata": {
        "id": "q2TUMR3MOxT3"
      },
      "execution_count": null,
      "outputs": []
    },
    {
      "cell_type": "code",
      "source": [
        "# Reshape về kích thước ban đầu của đặc trưng\n",
        "hfac_array = np.array(hfac_features).reshape(310, -1)\n",
        "har_array = np.array(har_features).reshape(310, -1)\n",
        "hvici_array = np.array(hvici_features).reshape(310, -1)\n",
        "hpri_array = np.array(hpri_features).reshape(310, -1)"
      ],
      "metadata": {
        "id": "a9sQBubKD8Dx"
      },
      "execution_count": null,
      "outputs": []
    },
    {
      "cell_type": "code",
      "source": [
        "#Vecto đặc trưng của khách sạn\n",
        "hotel_vec = 0.25*hfac_array + 0.25*har_array + 0.25*hvici_array + 0.25*hpri_array"
      ],
      "metadata": {
        "id": "lF5MC3hSEBCW"
      },
      "execution_count": null,
      "outputs": []
    },
    {
      "cell_type": "markdown",
      "source": [
        "##Lấy đặc trưng của người dùng"
      ],
      "metadata": {
        "id": "-Hii-Y9ZKMpG"
      }
    },
    {
      "cell_type": "code",
      "source": [
        "fac_file_path = '/content/drive/MyDrive/DS300_DoAn/data/dataset/fac_features.csv'\n",
        "ar_file_path = '/content/drive/MyDrive/DS300_DoAn/data/dataset/ar_features.csv'\n",
        "vici_file_path = '/content/drive/MyDrive/DS300_DoAn/data/dataset/vici_features.csv'\n",
        "pri_file_path = '/content/drive/MyDrive/DS300_DoAn/data/dataset/pri_features.csv'"
      ],
      "metadata": {
        "id": "kk7YsFVG8LtX"
      },
      "execution_count": null,
      "outputs": []
    },
    {
      "cell_type": "code",
      "source": [
        "fac_features = load_features(fac_file_path)\n",
        "ar_features = load_features(ar_file_path)\n",
        "vici_features = load_features(vici_file_path)\n",
        "pri_features = load_features(pri_file_path)"
      ],
      "metadata": {
        "id": "46FnbVJa86kF"
      },
      "execution_count": null,
      "outputs": []
    },
    {
      "cell_type": "code",
      "source": [
        "# Reshape về kích thước ban đầu của đặc trưng\n",
        "fac_array = np.array(fac_features).reshape(8980, -1)\n",
        "ar_array = np.array(ar_features).reshape(8980, -1)\n",
        "vici_array = np.array(vici_features).reshape(8980, -1)\n",
        "pri_array = np.array(pri_features).reshape(8980, -1)"
      ],
      "metadata": {
        "id": "n9FacY9q-5VA"
      },
      "execution_count": null,
      "outputs": []
    },
    {
      "cell_type": "code",
      "source": [
        "#Vecto đặc trưng của người dùng\n",
        "user_vec = 0.25*fac_array + 0.25*ar_array + 0.25*vici_array + 0.25*pri_array"
      ],
      "metadata": {
        "id": "c0bSlBYl_KAM"
      },
      "execution_count": null,
      "outputs": []
    },
    {
      "cell_type": "markdown",
      "source": [
        "#Đề xuất khách sạn"
      ],
      "metadata": {
        "id": "iHFUPHZ9KViB"
      }
    },
    {
      "cell_type": "code",
      "source": [
        "#TÍnh độ tương đồng với độ đo cosine\n",
        "sim = cosine_similarity(user_vec,hotel_vec)"
      ],
      "metadata": {
        "id": "53MMjvS4_4nm"
      },
      "execution_count": null,
      "outputs": []
    },
    {
      "cell_type": "code",
      "source": [
        "#Hàm đề xuất khách sạn\n",
        "def get_recommendations_content_based(userid, num_hotels):\n",
        "    # Lọc trực tiếp trong DataFrame  để lấy điểm tương đồng của từng userID\n",
        "    user_index = df_latest[df_latest['IDuser'] == userid].index\n",
        "    if not user_index.empty:\n",
        "        sim_scores = list(enumerate(sim[user_index[0]]))\n",
        "        sim_scores = sorted(sim_scores, key=lambda x: x[1], reverse=True)\n",
        "        sim_scores = sim_scores[:200]\n",
        "        hotel_indices = [i[0] for i in sim_scores]\n",
        "        similar_hotels = hotel_data.loc[hotel_indices, 'NameHotel'].tolist()\n",
        "\n",
        "        # Lọc các khách sạn được đề xuất dựa trên dữ liệu có sẵn\n",
        "        list_recommendation_location = []\n",
        "        for hotel_name in similar_hotels:\n",
        "            if hotel_name in hotel_data['NameHotel'].values:\n",
        "                list_recommendation_location.append(hotel_name)\n",
        "                if len(list_recommendation_location) == num_hotels:\n",
        "                    break\n",
        "\n",
        "        return list_recommendation_location\n",
        "    else:\n",
        "        return []"
      ],
      "metadata": {
        "id": "5Pdq1_hj_9VV"
      },
      "execution_count": null,
      "outputs": []
    },
    {
      "cell_type": "markdown",
      "source": [
        "##Lấy danh sách đề xuất cho 1 người dùng"
      ],
      "metadata": {
        "id": "oHKn5jGdKoQg"
      }
    },
    {
      "cell_type": "code",
      "source": [
        "%%time\n",
        "ls = get_recommendations_content_based(3857, 10)\n",
        "ls"
      ],
      "metadata": {
        "colab": {
          "base_uri": "https://localhost:8080/"
        },
        "id": "Wr64sVqv_-zI",
        "outputId": "22a25413-b014-4112-d8d1-00c7bd997c43"
      },
      "execution_count": null,
      "outputs": [
        {
          "output_type": "stream",
          "name": "stdout",
          "text": [
            "CPU times: user 7.69 ms, sys: 1.83 ms, total: 9.52 ms\n",
            "Wall time: 49.8 ms\n"
          ]
        },
        {
          "output_type": "execute_result",
          "data": {
            "text/plain": [
              "['La Cactus Hotel',\n",
              " 'La Cactus Hotel 2',\n",
              " 'An Ngân Phú Hotel',\n",
              " 'TH Quy Nhơn Hotel',\n",
              " 'Mira Hotel Quy Nhơn',\n",
              " 'QUE HUONG HOTEL',\n",
              " 'Phuong Dong Hotel and Apartment',\n",
              " 'Mira Eco Hotel Quy Nhơn',\n",
              " 'FLC SEA TOWER APARTMENT Minh Minh',\n",
              " 'Nam Thu Hotel']"
            ]
          },
          "metadata": {},
          "execution_count": 16
        }
      ]
    },
    {
      "cell_type": "markdown",
      "source": [
        "##Lấy danh sách đề xuất toàn bộ các user"
      ],
      "metadata": {
        "id": "_JOJXSMxKtUv"
      }
    },
    {
      "cell_type": "code",
      "source": [
        "%%time\n",
        "list_content_based = []\n",
        "num_hotels_cb = 20\n",
        "\n",
        "for i in tqdm(range(df_latest.shape[0])):\n",
        "  list_content_based.append(get_recommendations_content_based(df_latest.iloc[i,0], num_hotels_cb))"
      ],
      "metadata": {
        "colab": {
          "base_uri": "https://localhost:8080/"
        },
        "id": "a0T1uZxIQmvm",
        "outputId": "0c3d58ac-00e9-4e09-d1a8-da13db39bff8"
      },
      "execution_count": null,
      "outputs": [
        {
          "output_type": "stream",
          "name": "stderr",
          "text": [
            "100%|██████████| 8980/8980 [00:17<00:00, 513.37it/s]"
          ]
        },
        {
          "output_type": "stream",
          "name": "stdout",
          "text": [
            "CPU times: user 16.9 s, sys: 348 ms, total: 17.2 s\n",
            "Wall time: 17.5 s\n"
          ]
        },
        {
          "output_type": "stream",
          "name": "stderr",
          "text": [
            "\n"
          ]
        }
      ]
    },
    {
      "cell_type": "markdown",
      "source": [
        "##Xuất danh sách đề xuất dưới dạng csv"
      ],
      "metadata": {
        "id": "cNwcI19FKzlH"
      }
    },
    {
      "cell_type": "code",
      "source": [
        "list_user = df_latest['IDuser']\n",
        "df_pred = pd.DataFrame(list_user,columns=['IDuser'])\n",
        "df_pred['List Hotel Recommended'] = list_content_based"
      ],
      "metadata": {
        "id": "LNCc7tbSQgmH"
      },
      "execution_count": null,
      "outputs": []
    },
    {
      "cell_type": "code",
      "source": [
        "df_pred.to_csv('/content/drive/MyDrive/DS300_DoAn/data/List_Hotel_Recommend_BERT.csv')"
      ],
      "metadata": {
        "id": "koho7hAYQxfX"
      },
      "execution_count": null,
      "outputs": []
    }
  ]
}